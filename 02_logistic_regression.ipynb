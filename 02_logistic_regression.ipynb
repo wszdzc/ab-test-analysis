{
 "cells": [
  {
   "cell_type": "markdown",
   "id": "de1c8cdf",
   "metadata": {},
   "source": [
    "# 📈 Logistic Regression Analysis\n",
    "\n",
    "This notebook fits a logistic regression model to estimate the treatment effect of ad exposure on user conversion, while controlling for total ad volume and exposure time.\n",
    "\n",
    "## Goals:\n",
    "- Model `converted` as binary outcome\n",
    "- Include treatment group, total ads, day/hour exposure\n",
    "- Interpret coefficients via odds ratios"
   ]
  },
  {
   "cell_type": "code",
   "execution_count": 4,
   "id": "deac796a",
   "metadata": {},
   "outputs": [],
   "source": [
    "import pandas as pd\n",
    "import matplotlib.pyplot as plt\n",
    "import seaborn as sns\n",
    "import numpy as np\n",
    "\n",
    "# Load data\n",
    "df = pd.read_csv('marketing_AB.csv')\n",
    "df['converted'] = df['converted'].astype(int)"
   ]
  },
  {
   "cell_type": "code",
   "execution_count": 5,
   "id": "50090da5",
   "metadata": {},
   "outputs": [
    {
     "name": "stdout",
     "output_type": "stream",
     "text": [
      "Optimization terminated successfully.\n",
      "         Current function value: 0.106392\n",
      "         Iterations 8\n",
      "                           Logit Regression Results                           \n",
      "==============================================================================\n",
      "Dep. Variable:              converted   No. Observations:               588101\n",
      "Model:                          Logit   Df Residuals:                   588090\n",
      "Method:                           MLE   Df Model:                           10\n",
      "Date:                Sat, 10 May 2025   Pseudo R-squ.:                 0.09670\n",
      "Time:                        16:35:35   Log-Likelihood:                -62569.\n",
      "converged:                       True   LL-Null:                       -69267.\n",
      "Covariance Type:            nonrobust   LLR p-value:                     0.000\n",
      "==========================================================================================\n",
      "                             coef    std err          z      P>|z|      [0.025      0.975]\n",
      "------------------------------------------------------------------------------------------\n",
      "const                     -4.0206      0.040   -100.567      0.000      -4.099      -3.942\n",
      "Unnamed: 0             -2.787e-06   6.03e-08    -46.228      0.000   -2.91e-06   -2.67e-06\n",
      "total ads                  0.0079      0.000     76.121      0.000       0.008       0.008\n",
      "most ads hour              0.0334      0.002     18.290      0.000       0.030       0.037\n",
      "test group_psa            -0.4126      0.051     -8.045      0.000      -0.513      -0.312\n",
      "most ads day_Monday        0.4959      0.031     16.255      0.000       0.436       0.556\n",
      "most ads day_Saturday      0.0531      0.034      1.554      0.120      -0.014       0.120\n",
      "most ads day_Sunday        0.2558      0.032      7.874      0.000       0.192       0.319\n",
      "most ads day_Thursday      0.1080      0.034      3.190      0.001       0.042       0.174\n",
      "most ads day_Tuesday       0.4435      0.032     13.930      0.000       0.381       0.506\n",
      "most ads day_Wednesday     0.2020      0.033      6.128      0.000       0.137       0.267\n",
      "==========================================================================================\n",
      "\n",
      "Odds Ratios:\n",
      "most ads day_Monday       1.642025\n",
      "most ads day_Tuesday      1.558188\n",
      "most ads day_Sunday       1.291497\n",
      "most ads day_Wednesday    1.223902\n",
      "most ads day_Thursday     1.114091\n",
      "most ads day_Saturday     1.054521\n",
      "most ads hour             1.033957\n",
      "total ads                 1.007965\n",
      "Unnamed: 0                0.999997\n",
      "test group_psa            0.661900\n",
      "const                     0.017942\n",
      "dtype: float64\n"
     ]
    }
   ],
   "source": [
    "import statsmodels.api as sm\n",
    "\n",
    "# One-hot encode test_group and day\n",
    "df = pd.get_dummies(df, columns=['test group', 'most ads day'], drop_first=True)\n",
    "\n",
    "# Define features and target\n",
    "X = df.drop(columns=['user id', 'converted'])  # drop ID and target\n",
    "X = sm.add_constant(X)  # add intercept\n",
    "y = df['converted']\n",
    "\n",
    "# Fit logistic regression\n",
    "model = sm.Logit(y, X)\n",
    "result = model.fit()\n",
    "print(result.summary())\n",
    "\n",
    "# Optional: exponentiated coefficients\n",
    "print(\"\\nOdds Ratios:\")\n",
    "print(np.exp(result.params).sort_values(ascending=False))"
   ]
  },
  {
   "cell_type": "markdown",
   "id": "9f94d720",
   "metadata": {},
   "source": [
    "## Logistic Regression Interpretation\n",
    "\n",
    "We fit a logistic regression model to estimate the impact of ad exposure (vs. PSA) on user conversion, while controlling for total ads seen and time-related covariates.\n",
    "\n",
    "### Key Results:\n",
    "\n",
    "- **Ad vs. PSA (test group psa)**: The coefficient for `test group psa` is -0.4126 (p < 0.001), indicating that being in the PSA group is associated with a significantly lower likelihood of conversion. The corresponding odds ratio is **0.662**, meaning PSA users are 33.8% less likely to convert compared to ad users, holding other variables constant.\n",
    "\n",
    "- **Total Ads**: Each additional ad seen increases the odds of conversion by about **0.8%** (odds ratio ≈ 1.008). This suggests a mild but consistent effect of ad volume on conversion.\n",
    "\n",
    "- **Time Factors (Hour, Day)**:\n",
    "    - Users who saw the most ads on **Monday** or **Tuesday** were significantly more likely to convert than those exposed most on the base day (Friday), with odds ratios of **1.64** and **1.56** respectively.\n",
    "    - **Hour of max exposure** also has a small but significant positive effect (odds ratio ≈ 1.034).\n",
    "\n",
    "### Conclusion:\n",
    "\n",
    "The ad campaign is statistically effective after controlling for exposure quantity and timing. Conversion likelihood is influenced both by **being in the ad group** and **when/how many ads** a user sees. These results justify the use of logistic regression as a follow-up to the z-test, allowing adjustment for key covariates."
   ]
  }
 ],
 "metadata": {
  "kernelspec": {
   "display_name": "Python 3 (ipykernel)",
   "language": "python",
   "name": "python3"
  },
  "language_info": {
   "codemirror_mode": {
    "name": "ipython",
    "version": 3
   },
   "file_extension": ".py",
   "mimetype": "text/x-python",
   "name": "python",
   "nbconvert_exporter": "python",
   "pygments_lexer": "ipython3",
   "version": "3.8.5"
  }
 },
 "nbformat": 4,
 "nbformat_minor": 5
}
